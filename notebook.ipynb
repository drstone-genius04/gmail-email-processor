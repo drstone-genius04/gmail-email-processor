{
 "cells": [
  {
   "cell_type": "code",
   "execution_count": null,
   "metadata": {},
   "outputs": [],
   "source": [
    "\n",
    "\n",
    "from email_utils import authenticate_gmail, fetch_emails, extract_email_addresses\n",
    "import pandas as pd\n",
    "import matplotlib.pyplot as plt\n",
    "\n"
   ]
  },
  {
   "cell_type": "code",
   "execution_count": 3,
   "metadata": {},
   "outputs": [
    {
     "name": "stdout",
     "output_type": "stream",
     "text": [
      "Authenticating with Gmail API...\n",
      "Authentication successful!\n"
     ]
    }
   ],
   "source": [
    "print(\"Authenticating with Gmail API...\")\n",
    "service = authenticate_gmail()\n",
    "print(\"Authentication successful!\")\n"
   ]
  },
  {
   "cell_type": "code",
   "execution_count": 11,
   "metadata": {},
   "outputs": [
    {
     "name": "stdout",
     "output_type": "stream",
     "text": [
      "Running Gmail query: label:inbox\n",
      "Fetched 50 emails\n"
     ]
    }
   ],
   "source": [
    "print(f\"Running Gmail query: {query}\")\n",
    "email_df = fetch_emails(service, query=query, total_limit=50)\n",
    "print(f\"Fetched {len(email_df)} emails\")\n",
    "\n",
    "\n",
    "\n"
   ]
  },
  {
   "cell_type": "code",
   "execution_count": 15,
   "metadata": {},
   "outputs": [
    {
     "name": "stdout",
     "output_type": "stream",
     "text": [
      "Found 100 messages.\n"
     ]
    }
   ],
   "source": [
    "query = \"newer_than:7d\"\n",
    "response = service.users().messages().list(userId='me', q=query).execute()\n",
    "messages = response.get('messages', [])\n",
    "print(f\"Found {len(messages)} messages.\")\n",
    "\n",
    "\n",
    "\n"
   ]
  },
  {
   "cell_type": "code",
   "execution_count": 19,
   "metadata": {},
   "outputs": [
    {
     "name": "stdout",
     "output_type": "stream",
     "text": [
      "                                              Sender  \\\n",
      "0                 Wanderu <chiku@travel.wanderu.com>   \n",
      "1                Amy at Adzuna <no-reply@adzuna.com>   \n",
      "2     \"justfly.com\" <justfly@email.justflyemail.com>   \n",
      "3  \"Iribe Initiative for Inclusion and ... (via S...   \n",
      "4  Quora Suggested Spaces <politicalperspective1-...   \n",
      "\n",
      "                                             Subject  \\\n",
      "0  Allan, this is your reminder to book a Memoria...   \n",
      "1     Surreal are looking for a Founding AI Engineer   \n",
      "2   ✈ Round Trip Flights from $76.29 | Available Now   \n",
      "3                      Koree Perry sent you messages   \n",
      "4  BREAKING: White House Press Secretary Karoline...   \n",
      "\n",
      "                              Date  \\\n",
      "0  Thu, 08 May 2025 20:39:56 +0000   \n",
      "1   Thu, 8 May 2025 18:04:49 +0000   \n",
      "2  Thu, 08 May 2025 11:01:15 -0600   \n",
      "3   Thu, 8 May 2025 16:29:55 +0000   \n",
      "4  Thu, 08 May 2025 14:27:42 +0000   \n",
      "\n",
      "                                                Body  \n",
      "0  MDW is in two weeks! 🚌🚂🇺🇸\\n\\nhttps://links.wan...  \n",
      "1  \\n\\n\\n\\n\\n\\n\\n\\n\\n\\n\\n\\n\\n\\n\\n\\n\\n\\n\\n\\n\\n\\n\\n...  \n",
      "2  JustFly \\r\\n \\r\\n\\r\\n  \\r\\n  \\r\\n \\r\\n\\r\\nhttp...  \n",
      "3  Iribe Initiative for Inclusion and Diversity: ...  \n",
      "4  Trending Stories from Liberals Turned into Tru...  \n"
     ]
    }
   ],
   "source": [
    "from email_utils import get_email_details  # Ensure this function is defined in your email_utils.py\n",
    "\n",
    "emails_data = []\n",
    "\n",
    "for msg in messages:\n",
    "    msg_id = msg['id']\n",
    "    email_details = get_email_details(service, msg_id)\n",
    "    emails_data.append(email_details)\n",
    "\n",
    "# Convert the list of email details to a DataFrame\n",
    "df = pd.DataFrame(emails_data)\n",
    "print(df.head())\n"
   ]
  },
  {
   "cell_type": "code",
   "execution_count": 20,
   "metadata": {},
   "outputs": [
    {
     "name": "stdout",
     "output_type": "stream",
     "text": [
      "{'noreply@medium.com', 'referrals@integral.xyz', 'm@mertdev.dev', 'frustratedcitizen-space@quora.com', 'team@interviewquery.com', 'essilorluxottica-jobnotification@noreply12.jobs2web.com', 'YouTube@2x', 'kingallan.35@gmail.com', 'no-reply-account-statement@reportsmailer.zerodha.net', 'info@glassdoor.com', 'AlamoRentACar@email.alamo.com', 'Microsoft@2x', 'baur.krykpayev@gmail.com', 'bolbi@adsgency.ai', 'chiku@travel.wanderu.com', 'cs.sbi@kfintech.com', 'kingallan.35@gmail.com.', 'paul@cousinlabs.com', 'english-personalized-digest@quora.com', 'justfly@email.justflyemail.com', 'handshake@m.joinhandshake.com', 'rron@solarawealth.com', 'hello@mail.apollo.io', 'discover@services.discover.com', 'support@read.ai', 'Apple_App_Store_Badge_US-UK@2x', 'Facebook@2x', 'notification@slack.com', 'investor.seva@sbi.co.in', '2022ci_niroopnr_a@nie.ac.in', 'jarrod@arc.computer', 'noreply@redditmail.com', 'politicalperspective1-space@quora.com', 'einward.ris@kfintech.com', 'svaudry@shippedhospitality.com', 'support@e.read.ai', 'notification@priority.facebookmail.com', 'nextplayso@substack.com', 'mail@sg.rentalcars.com', 'careers@joindomos.com', 'Azure@2x', 'executiveassistant@e.read.ai', 'influencernews-space@quora.com', 'wght@0', 'hello@wonsulting.com', 'Google-Play-badge@2x', 'jerrylee@wonsulting.com', 'Linkedin@2x', 'no-reply@adzuna.com', 'kingallan35@gmail.com', 'hi@nextplay.so', 'nikhil@vitalize.care', 'jonathan@wonsulting.com', 'Azure@promomail.microsoft.com', 'careerbrew@substack.com', 'build@agi.tech.', 'hiring.stealth.investing@gmail.com', 'no-reply@e.udemymail.com', '20XCorp-black@2x'}\n"
     ]
    }
   ],
   "source": [
    "from email_utils import authenticate_gmail, fetch_emails, extract_email_addresses\n",
    "\n",
    "service = authenticate_gmail()\n",
    "df = fetch_emails(service, query=\"label:inbox\", total_limit=50)\n",
    "df.head()\n",
    "\n",
    "emails = extract_email_addresses(df)\n",
    "print(emails)\n"
   ]
  },
  {
   "cell_type": "code",
   "execution_count": 21,
   "metadata": {},
   "outputs": [
    {
     "name": "stdout",
     "output_type": "stream",
     "text": [
      "Running Gmail query: label:inbox\n",
      "Fetched 50 emails.\n"
     ]
    }
   ],
   "source": [
    "query = \"label:inbox\"  # You can modify this to subject:Invoice after:2024/01/01 etc.\n",
    "print(f\"Running Gmail query: {query}\")\n",
    "emails_df = fetch_emails(service, query=query, total_limit=50)\n",
    "print(f\"Fetched {len(emails_df)} emails.\")"
   ]
  },
  {
   "cell_type": "code",
   "execution_count": 22,
   "metadata": {},
   "outputs": [
    {
     "data": {
      "text/html": [
       "<div>\n",
       "<style scoped>\n",
       "    .dataframe tbody tr th:only-of-type {\n",
       "        vertical-align: middle;\n",
       "    }\n",
       "\n",
       "    .dataframe tbody tr th {\n",
       "        vertical-align: top;\n",
       "    }\n",
       "\n",
       "    .dataframe thead th {\n",
       "        text-align: right;\n",
       "    }\n",
       "</style>\n",
       "<table border=\"1\" class=\"dataframe\">\n",
       "  <thead>\n",
       "    <tr style=\"text-align: right;\">\n",
       "      <th></th>\n",
       "      <th>Sender</th>\n",
       "      <th>Subject</th>\n",
       "      <th>Date</th>\n",
       "      <th>Body</th>\n",
       "    </tr>\n",
       "  </thead>\n",
       "  <tbody>\n",
       "    <tr>\n",
       "      <th>0</th>\n",
       "      <td>Wanderu &lt;chiku@travel.wanderu.com&gt;</td>\n",
       "      <td>Allan, this is your reminder to book a Memoria...</td>\n",
       "      <td>Thu, 08 May 2025 20:39:56 +0000</td>\n",
       "      <td>MDW is in two weeks! 🚌🚂🇺🇸\\n\\nhttps://links.wan...</td>\n",
       "    </tr>\n",
       "    <tr>\n",
       "      <th>1</th>\n",
       "      <td>Amy at Adzuna &lt;no-reply@adzuna.com&gt;</td>\n",
       "      <td>Surreal are looking for a Founding AI Engineer</td>\n",
       "      <td>Thu, 8 May 2025 18:04:49 +0000</td>\n",
       "      <td>\\n\\n\\n\\n\\n\\n\\n\\n\\n\\n\\n\\n\\n\\n\\n\\n\\n\\n\\n\\n\\n\\n\\n...</td>\n",
       "    </tr>\n",
       "    <tr>\n",
       "      <th>2</th>\n",
       "      <td>\"justfly.com\" &lt;justfly@email.justflyemail.com&gt;</td>\n",
       "      <td>✈ Round Trip Flights from $76.29 | Available Now</td>\n",
       "      <td>Thu, 08 May 2025 11:01:15 -0600</td>\n",
       "      <td>JustFly \\r\\n \\r\\n\\r\\n  \\r\\n  \\r\\n \\r\\n\\r\\nhttp...</td>\n",
       "    </tr>\n",
       "    <tr>\n",
       "      <th>3</th>\n",
       "      <td>\"Iribe Initiative for Inclusion and ... (via S...</td>\n",
       "      <td>Koree Perry sent you messages</td>\n",
       "      <td>Thu, 8 May 2025 16:29:55 +0000</td>\n",
       "      <td>Iribe Initiative for Inclusion and Diversity: ...</td>\n",
       "    </tr>\n",
       "    <tr>\n",
       "      <th>4</th>\n",
       "      <td>Quora Suggested Spaces &lt;politicalperspective1-...</td>\n",
       "      <td>BREAKING: White House Press Secretary Karoline...</td>\n",
       "      <td>Thu, 08 May 2025 14:27:42 +0000</td>\n",
       "      <td>Trending Stories from Liberals Turned into Tru...</td>\n",
       "    </tr>\n",
       "  </tbody>\n",
       "</table>\n",
       "</div>"
      ],
      "text/plain": [
       "                                              Sender  \\\n",
       "0                 Wanderu <chiku@travel.wanderu.com>   \n",
       "1                Amy at Adzuna <no-reply@adzuna.com>   \n",
       "2     \"justfly.com\" <justfly@email.justflyemail.com>   \n",
       "3  \"Iribe Initiative for Inclusion and ... (via S...   \n",
       "4  Quora Suggested Spaces <politicalperspective1-...   \n",
       "\n",
       "                                             Subject  \\\n",
       "0  Allan, this is your reminder to book a Memoria...   \n",
       "1     Surreal are looking for a Founding AI Engineer   \n",
       "2   ✈ Round Trip Flights from $76.29 | Available Now   \n",
       "3                      Koree Perry sent you messages   \n",
       "4  BREAKING: White House Press Secretary Karoline...   \n",
       "\n",
       "                              Date  \\\n",
       "0  Thu, 08 May 2025 20:39:56 +0000   \n",
       "1   Thu, 8 May 2025 18:04:49 +0000   \n",
       "2  Thu, 08 May 2025 11:01:15 -0600   \n",
       "3   Thu, 8 May 2025 16:29:55 +0000   \n",
       "4  Thu, 08 May 2025 14:27:42 +0000   \n",
       "\n",
       "                                                Body  \n",
       "0  MDW is in two weeks! 🚌🚂🇺🇸\\n\\nhttps://links.wan...  \n",
       "1  \\n\\n\\n\\n\\n\\n\\n\\n\\n\\n\\n\\n\\n\\n\\n\\n\\n\\n\\n\\n\\n\\n\\n...  \n",
       "2  JustFly \\r\\n \\r\\n\\r\\n  \\r\\n  \\r\\n \\r\\n\\r\\nhttp...  \n",
       "3  Iribe Initiative for Inclusion and Diversity: ...  \n",
       "4  Trending Stories from Liberals Turned into Tru...  "
      ]
     },
     "execution_count": 22,
     "metadata": {},
     "output_type": "execute_result"
    }
   ],
   "source": [
    "emails_df.head()"
   ]
  },
  {
   "cell_type": "code",
   "execution_count": 23,
   "metadata": {},
   "outputs": [
    {
     "name": "stdout",
     "output_type": "stream",
     "text": [
      "\n",
      "Unique email addresses found:\n",
      "{'noreply@medium.com', 'referrals@integral.xyz', 'm@mertdev.dev', 'frustratedcitizen-space@quora.com', 'team@interviewquery.com', 'essilorluxottica-jobnotification@noreply12.jobs2web.com', 'YouTube@2x', 'kingallan.35@gmail.com', 'no-reply-account-statement@reportsmailer.zerodha.net', 'info@glassdoor.com', 'AlamoRentACar@email.alamo.com', 'Microsoft@2x', 'baur.krykpayev@gmail.com', 'bolbi@adsgency.ai', 'chiku@travel.wanderu.com', 'cs.sbi@kfintech.com', 'kingallan.35@gmail.com.', 'paul@cousinlabs.com', 'english-personalized-digest@quora.com', 'justfly@email.justflyemail.com', 'handshake@m.joinhandshake.com', 'rron@solarawealth.com', 'hello@mail.apollo.io', 'discover@services.discover.com', 'support@read.ai', 'Apple_App_Store_Badge_US-UK@2x', 'Facebook@2x', 'notification@slack.com', 'investor.seva@sbi.co.in', '2022ci_niroopnr_a@nie.ac.in', 'jarrod@arc.computer', 'noreply@redditmail.com', 'politicalperspective1-space@quora.com', 'einward.ris@kfintech.com', 'svaudry@shippedhospitality.com', 'support@e.read.ai', 'notification@priority.facebookmail.com', 'nextplayso@substack.com', 'mail@sg.rentalcars.com', 'careers@joindomos.com', 'Azure@2x', 'executiveassistant@e.read.ai', 'influencernews-space@quora.com', 'wght@0', 'hello@wonsulting.com', 'Google-Play-badge@2x', 'jerrylee@wonsulting.com', 'Linkedin@2x', 'no-reply@adzuna.com', 'kingallan35@gmail.com', 'hi@nextplay.so', 'nikhil@vitalize.care', 'jonathan@wonsulting.com', 'Azure@promomail.microsoft.com', 'careerbrew@substack.com', 'build@agi.tech.', 'hiring.stealth.investing@gmail.com', 'no-reply@e.udemymail.com', '20XCorp-black@2x'}\n"
     ]
    }
   ],
   "source": [
    "unique_addresses = extract_email_addresses(emails_df)\n",
    "print(\"\\nUnique email addresses found:\")\n",
    "print(unique_addresses)"
   ]
  },
  {
   "cell_type": "code",
   "execution_count": null,
   "metadata": {},
   "outputs": [
    {
     "name": "stdout",
     "output_type": "stream",
     "text": [
      "\n",
      "Sample Email Body Preview (First Email):\n",
      "MDW is in two weeks! 🚌🚂🇺🇸\n",
      "\n",
      "https://links.wanderu.com/z/sa1bmz510xgj04?uid=80ed117f-5295-45a4-afc6-f45ddd40e7e1&txnid=813328a2-833f-46b9-9b6b-42a066d9d88a&mid=ff3dbfbb-13a0-4252-9e09-307d88218971&bsft_aaid=1dc7dc5a-cb4f-4e77-93b4-4d2ed26ca10e&bsft_ek=2025-05-08T20%3A20%3A12Z&bsft_mime_type=text&bsft_tv=5&bsft_lx=1\n",
      "\n",
      "[Buses](https://links.wanderu.com/z/sj1cmq5e0b4n04?uid=80ed117f-5295-45a4-afc6-f45ddd40e7e1&txnid=813328a2-833f-46b9-9b6b-42a066d9d88a&mid=ff3dbfbb-13a0-4252-9e09-307d88218971&bsft_aai\n"
     ]
    }
   ],
   "source": [
    "#  Step 5: Preview Body Content of First Email\n",
    "if not emails_df.empty:\n",
    "    print(\"\\nSample Email Body Preview (First Email):\")\n",
    "    print(emails_df.iloc[0][\"Body\"][:500])\n",
    "else:\n",
    "    print(\"\\nNo emails returned by the query.\")"
   ]
  },
  {
   "cell_type": "code",
   "execution_count": 30,
   "metadata": {},
   "outputs": [
    {
     "data": {
      "image/png": "[encoded data removed]",
      "text/plain": [
       "<Figure size 1000x600 with 1 Axes>"
      ]
     },
     "metadata": {},
     "output_type": "display_data"
    }
   ],
   "source": [
    "emails_df[\"Sender Domain\"].value_counts().head(10).plot(\n",
    "    kind=\"bar\", \n",
    "    title=\"Top Sender Domains\", \n",
    "    figsize=(10, 6),\n",
    "    xlabel=\"Domain\",\n",
    "    ylabel=\"Count\"\n",
    ")\n",
    "plt.tight_layout()\n",
    "plt.show()\n"
   ]
  }
 ],
 "metadata": {
  "kernelspec": {
   "display_name": "venv",
   "language": "python",
   "name": "python3"
  },
  "language_info": {
   "codemirror_mode": {
    "name": "ipython",
    "version": 3
   },
   "file_extension": ".py",
   "mimetype": "text/x-python",
   "name": "python",
   "nbconvert_exporter": "python",
   "pygments_lexer": "ipython3",
   "version": "3.12.7"
  }
 },
 "nbformat": 4,
 "nbformat_minor": 4
}
